{
 "cells": [
  {
   "cell_type": "markdown",
   "metadata": {},
   "source": [
    "## Good programming practice for compute speed:\n",
    "\n",
    "1. Define variables outside loops when possible\n",
    "2. Calculate a quantity only once if used more than once\n",
    "\n",
    "To explore this, let's look at the Quantum Harmonic Oscillator at Finite Temperature. This is Example 4.2 in your book, but please don't reference your book while working on the daily exercise in class.\n",
    "\n",
    "The quantum simple harmonic oscillator has energy levels at $E_n = \\hbar\\omega(n+\\frac{1}{2})$, where $n = 0,1,2,...,\\infty$\n",
    "\n",
    "The average energy of a simple harmonic oscillator at temperature $T$ is:\n",
    "\n",
    "$$\\langle E \\rangle = \\frac{1}{Z} \\sum_{n=0}^{\\infty}E_n e^{-\\beta E_n}$$\n",
    "where $\\beta = \\frac{1}{k_BT}$, and $Z = \\sum_{n=0}^{\\infty}e^{-\\beta E_n}$.\n",
    "\n",
    "You will write code to calculate an approximate value for $\\langle E \\rangle$ when $k_BT = 100$, keeping in mind the speed considerations above. You can assume $\\hbar = \\omega = 1$ for this calculation.\n",
    "\n",
    "There is an infinite sum in this equation. You will not need all $\\infty$ terms to get a good solution. In the cells below, write code to help you determine when to truncate the sum. There are *many* ways to do this, some fancy and some very \"guess and check\". "
   ]
  },
  {
   "cell_type": "code",
   "execution_count": 1,
   "metadata": {},
   "outputs": [],
   "source": [
    "#import packages here\n"
   ]
  },
  {
   "cell_type": "code",
   "execution_count": null,
   "metadata": {},
   "outputs": [],
   "source": [
    "# code where you are deciding how many iterations to use\n",
    "\n"
   ]
  },
  {
   "cell_type": "markdown",
   "metadata": {},
   "source": [
    "### How many iterations do you need for a reasonable answer? How did you determine this? Write your response in the cell below my changing it to a Markdown cell"
   ]
  },
  {
   "cell_type": "markdown",
   "metadata": {},
   "source": [
    "<font color=\"blue\">\n",
    "\n",
    "Double click here and edit this text with yout response."
   ]
  },
  {
   "cell_type": "markdown",
   "metadata": {},
   "source": [
    "#### In the cell below, write efficient code to calculate your approximate value for calculating $\\langle E \\rangle$ when $k_BT = 100$"
   ]
  },
  {
   "cell_type": "code",
   "execution_count": null,
   "metadata": {},
   "outputs": [],
   "source": []
  },
  {
   "cell_type": "markdown",
   "metadata": {},
   "source": [
    "### In Jupyter we can use \"magic commmands\", which are denoted by ```%```\n",
    "We have seen one example of these with the Jupyter command ```%matplotlib inline```, which indicates that we want to render our plots inside of the notebook.\n",
    "\n",
    "### The magic command ```%timeit``` is a great way to time code in Jupyter. It will time a specific line, and execute the line as many times as needed to get sufficient timing information.\n",
    "\n",
    "### By adding ```%%timeit``` to the beginning of a code cell, the code will time the entire cell.\n",
    "\n",
    "### Now, try creating a cell of code to sum many floats and another to sum the same number of integers. Time the two code cells and compare the results. \n",
    "\n"
   ]
  },
  {
   "cell_type": "code",
   "execution_count": null,
   "metadata": {
    "collapsed": true,
    "jupyter": {
     "outputs_hidden": true
    }
   },
   "outputs": [],
   "source": [
    "# floats calculation\n"
   ]
  },
  {
   "cell_type": "code",
   "execution_count": null,
   "metadata": {},
   "outputs": [],
   "source": [
    "# integer calculation\n"
   ]
  },
  {
   "cell_type": "markdown",
   "metadata": {},
   "source": [
    "### What happens to the timing if you print the current value of your sum at each iteration? \n",
    "\n",
    "Note: this will obviously generate a lot of output. You should still be able to scroll to the bottom and see the timing results."
   ]
  },
  {
   "cell_type": "markdown",
   "metadata": {},
   "source": [
    "<font color=\"blue\">\n",
    "Double click to type your observations here."
   ]
  },
  {
   "cell_type": "markdown",
   "metadata": {},
   "source": [
    "### Make sure this file is saved on your JupyterHub account before closing!"
   ]
  }
 ],
 "metadata": {
  "kernelspec": {
   "display_name": "Python 3",
   "language": "python",
   "name": "python3"
  },
  "language_info": {
   "codemirror_mode": {
    "name": "ipython",
    "version": 3
   },
   "file_extension": ".py",
   "mimetype": "text/x-python",
   "name": "python",
   "nbconvert_exporter": "python",
   "pygments_lexer": "ipython3",
   "version": "3.7.6"
  }
 },
 "nbformat": 4,
 "nbformat_minor": 4
}
