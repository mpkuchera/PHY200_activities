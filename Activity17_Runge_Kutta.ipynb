{
 "cells": [
  {
   "cell_type": "markdown",
   "metadata": {},
   "source": [
    "# Fourth-Order Runge-Kutta (RK4)\n",
    "\n",
    "### Consider the 2nd order Ordinary Differential Equation (ODE) for a non-linear pendulum:\n",
    "\n",
    "$$\\frac{d^2\\theta}{dt^2} = -\\frac{g}{l}\\sin{\\theta}$$\n",
    "\n",
    "### In the Markdown cell below, write this as two *first order* ODEs.\n",
    "\n",
    "Write equations in $\\LaTeX$ form by enclosing the equation in `$$ $$`\n",
    "\n",
    "*Note:* You can double click in this cell to reference how the above ODE was typed in Markdown/LaTeX"
   ]
  },
  {
   "cell_type": "markdown",
   "metadata": {},
   "source": [
    "<font color=\"blue\">\n",
    "   ** Double click here to type Markdown and $\\LaTeX$**"
   ]
  },
  {
   "cell_type": "markdown",
   "metadata": {},
   "source": [
    "Our 4th order Runge-Kutta algorithm updates the dependent variables at each step as follows:\n",
    "\n",
    "\n",
    "$$\n",
    "\\begin{eqnarray}\n",
    "k_1& = &hf(x,t)\\\\\n",
    "k_2& = &hf(x+\\frac{1}{2}k_1),t+\\frac{1}{2}h) \\\\\n",
    "k_3& = &hf(x+\\frac{1}{2}k_2,t+\\frac{1}{2}h) \\\\\n",
    "k_4& = &hf(x+k_3,t+h)\\\\\n",
    "x(t+h)& = & x(t) + \\frac{1}{6}(k_1+2k_2+2k_3+k_4)\n",
    "\\end{eqnarray}\n",
    "$$\n",
    "\n",
    "Below, define your function, `f(r)` that takes an input array of your two variables that will be updated at each step, and returns an array containing the derivative of each variable. We do not have a `t` as an argument to our function because our case does not have *explicit* time dependence."
   ]
  },
  {
   "cell_type": "code",
   "execution_count": null,
   "metadata": {},
   "outputs": [],
   "source": [
    "# add you imports here\n",
    "%matplotlib inline\n",
    "\n",
    "import pylab as plt"
   ]
  },
  {
   "cell_type": "code",
   "execution_count": null,
   "metadata": {},
   "outputs": [],
   "source": [
    "# constants for our problem\n",
    "g = 9.81 # m/s\n",
    "l = 1 # length of pendulum: 1m\n",
    "# define your function for your ODEs here\n",
    "\n",
    "def f(r):\n",
    "    \n",
    "    return \n"
   ]
  },
  {
   "cell_type": "markdown",
   "metadata": {},
   "source": [
    "Next, implement 4th-order Runge Kutta to calculate $\\theta$ at each timestep.\n",
    "\n",
    "Start at $\\theta_0 = \\frac{\\pi}{4}$ and $\\omega_0 = 0$. Plot $t = 100s$ worth of data, with a timestep of $0.1s$.\n"
   ]
  },
  {
   "cell_type": "code",
   "execution_count": null,
   "metadata": {},
   "outputs": [],
   "source": [
    "# define your fourth-order Runge-Kutta here\n",
    "\n",
    "T = linspace(0,100,100)\n",
    "\n",
    "xs = [] # for plotting\n",
    "ys = [] # for plotting\n",
    "\n",
    "\n",
    "xs.append(l*sin(r[0])) # calc x for plotting\n",
    "ys.append(-l*cos(r[0])) # calc y for plotting\n",
    "h = .01\n",
    "for t in T:\n",
    "\n",
    "    xs.append(l*sin(r[0]))\n",
    "    ys.append(-l*cos(r[0]))"
   ]
  },
  {
   "cell_type": "code",
   "execution_count": null,
   "metadata": {},
   "outputs": [],
   "source": [
    "plt.plot(0,0,'o') # plots our point of rotation for our pendulum\n",
    "plt.plot(xs,ys,'o') # plots our $(x,y)$ coordinates of our pendulum.\n",
    "\n",
    "plt.axes().set_aspect(\"equal\") # equalize our axes\n",
    "plt.show()"
   ]
  },
  {
   "cell_type": "markdown",
   "metadata": {},
   "source": [
    "**Save on JupyterHub.**"
   ]
  }
 ],
 "metadata": {
  "kernelspec": {
   "display_name": "Python 3",
   "language": "python",
   "name": "python3"
  },
  "language_info": {
   "codemirror_mode": {
    "name": "ipython",
    "version": 3
   },
   "file_extension": ".py",
   "mimetype": "text/x-python",
   "name": "python",
   "nbconvert_exporter": "python",
   "pygments_lexer": "ipython3",
   "version": "3.7.6"
  }
 },
 "nbformat": 4,
 "nbformat_minor": 4
}
