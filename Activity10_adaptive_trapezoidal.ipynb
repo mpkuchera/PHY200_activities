{
 "cells": [
  {
   "cell_type": "markdown",
   "metadata": {},
   "source": [
    "# Numerical Integration\n",
    "\n",
    "## Trapezoidal Rule\n",
    "\n",
    "We found that we can approximate an integral via the trapezoidal rule:\n",
    "\n",
    "$$\\int_a^b{f(x) dx} = h\\Bigg[ \\frac{f(a)}{2}+\\frac{f(b)}{2}+\\sum_{k=1}^{N-1}f(a+kh)\\Bigg]$$.\n",
    "\n",
    "In the lectures, we saw that we can acheive the desired accuracy in our approximation by using the *adaptive trapezoidal rule* where the integral at iteration $i$ is:\n",
    "\n",
    "$$I_i = \\frac{1}{2}I_{i-1}+h_i\\sum_{k_{odd} = 1}^{N_i-1}{f(a+kh_i)}$$\n",
    "\n",
    "where $N_i = 2N_{i-1}$, and the error at iteration $i$ is given by:\n",
    "\n",
    "$$\\epsilon_i = \\frac{1}{3}(I_i - I_{i-1})$$\n",
    "\n",
    "Let's examine this method using the same function as on Tuesday:\n",
    "\n",
    "$$f(x) = \\frac{x^4}{2} - 4x^2 + 10$$"
   ]
  },
  {
   "cell_type": "code",
   "execution_count": null,
   "metadata": {
    "collapsed": true,
    "jupyter": {
     "outputs_hidden": true
    }
   },
   "outputs": [],
   "source": [
    "# Our exact integral, calculated analytically\n",
    "def analytic_integral(a,b):\n",
    "    ans = (b**5-a**5)/10 - 4/3*(b**3-a**3)+10*(b-a)\n",
    "    return ans"
   ]
  },
  {
   "cell_type": "code",
   "execution_count": null,
   "metadata": {
    "collapsed": true,
    "jupyter": {
     "outputs_hidden": true
    }
   },
   "outputs": [],
   "source": [
    "# Our function from Tuesday:\n",
    "def f(x):\n",
    "    return 0.5*x**4-4*x**2+10"
   ]
  },
  {
   "cell_type": "code",
   "execution_count": null,
   "metadata": {
    "collapsed": true,
    "jupyter": {
     "outputs_hidden": true
    }
   },
   "outputs": [],
   "source": [
    "# a reminder of the trapezoidal rule integrating f(x) with N divisions, integrated from a to b\n",
    "# note that you do not need this code for the adaptive trapezoidal method, it is here as a reference\n",
    "def trapezoidal(a,b,N):\n",
    "    h = (b-a)/N\n",
    "    #print(h)\n",
    "    res = 0.5*f(a)+0.5*f(b)\n",
    "    for k in range(1,N):\n",
    "        #print(res)\n",
    "        res += f(a+k*h)\n",
    "    return res*h"
   ]
  },
  {
   "cell_type": "markdown",
   "metadata": {},
   "source": [
    "Below, implement the adaptive trapezoidal rule, and calculate the above integral to $10^{-6}$ accuracy. Below, implement the adaptive trapezoidal rule, and calculate the above integral to $10^{-6}$ accuracy. Print out the integral result and the number of divisions needed to acheive the desired accuracy."
   ]
  },
  {
   "cell_type": "code",
   "execution_count": null,
   "metadata": {
    "collapsed": true,
    "jupyter": {
     "outputs_hidden": true
    }
   },
   "outputs": [],
   "source": [
    "\n"
   ]
  },
  {
   "cell_type": "markdown",
   "metadata": {},
   "source": [
    "### Save this file as lastname1_lastname2_adaptive.ipynb and submit on Moodle"
   ]
  }
 ],
 "metadata": {
  "anaconda-cloud": {},
  "kernelspec": {
   "display_name": "Python 3",
   "language": "python",
   "name": "python3"
  },
  "language_info": {
   "codemirror_mode": {
    "name": "ipython",
    "version": 3
   },
   "file_extension": ".py",
   "mimetype": "text/x-python",
   "name": "python",
   "nbconvert_exporter": "python",
   "pygments_lexer": "ipython3",
   "version": "3.7.9"
  }
 },
 "nbformat": 4,
 "nbformat_minor": 4
}
