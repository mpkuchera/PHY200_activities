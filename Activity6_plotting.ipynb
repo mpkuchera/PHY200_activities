{
 "cells": [
  {
   "cell_type": "markdown",
   "metadata": {},
   "source": [
    "<img src=\"https://cdn.eso.org/images/screen/eso0728c.jpg\" width=200 style=\"border-radius:40px; float: left; margin:20px;\" >\n",
    "\n",
    "# Plotting the Hertzsprung-Russel diagram\n",
    "                                                                                                                                      \n",
    "### The Hertzsprung-Russel diagram is a scatter plot of star brightness vs. surface temperature. This diagram is famous for distinguishing the different types of stars, such as *main sequence* stars, *red giants*, and *white dwarfs*. "
   ]
  },
  {
   "cell_type": "code",
   "execution_count": null,
   "metadata": {},
   "outputs": [],
   "source": [
    "# the below line indicates that plots will plot inside of the notebook instead of a separate window.\n",
    "# You only need this if you are *NOT* in jupyter lab (i.e. you likely don't need this!). \n",
    "# %matplotlib inline  \n",
    "\n",
    "# place all of your import statements in this cell, below this line. Make sure to re-run this cell to load new packages\"\n"
   ]
  },
  {
   "cell_type": "markdown",
   "metadata": {},
   "source": [
    "In the below cell, use the `loadtxt` function to load the data file `stars.txt` into an array. The data file should be saved to the same folder as this notebook."
   ]
  },
  {
   "cell_type": "code",
   "execution_count": null,
   "metadata": {},
   "outputs": [],
   "source": []
  },
  {
   "cell_type": "markdown",
   "metadata": {},
   "source": [
    "The first column is *temperature* and the second is *magnitude*. Magnitude is a logarithmic measure of brightness as seen on earth (this is called *apparent magnitude*). Counterintuitively (to Dr. Kuchera), the more bright a star, the lower its magnitude value. For reference, the sun has a magnitude of -27, and Sirius, the brightest star outside of our solar system, has a magnitude of -1.44.\n",
    "\n",
    "### Below, create a scatter plot of magnitude vs. temperature. Label your axes."
   ]
  },
  {
   "cell_type": "code",
   "execution_count": null,
   "metadata": {},
   "outputs": [],
   "source": []
  },
  {
   "cell_type": "markdown",
   "metadata": {},
   "source": [
    "### Traditionally, the axes of this plot are plotted by decreasing value. When plotted like this, it is called the *Hertzprung-Russel diagram* or *HR diagram*. Below, make this HR diagram. Label axes."
   ]
  },
  {
   "cell_type": "code",
   "execution_count": null,
   "metadata": {},
   "outputs": [],
   "source": []
  },
  {
   "cell_type": "code",
   "execution_count": null,
   "metadata": {},
   "outputs": [],
   "source": []
  }
 ],
 "metadata": {
  "kernelspec": {
   "display_name": "Python 3",
   "language": "python",
   "name": "python3"
  },
  "language_info": {
   "codemirror_mode": {
    "name": "ipython",
    "version": 3
   },
   "file_extension": ".py",
   "mimetype": "text/x-python",
   "name": "python",
   "nbconvert_exporter": "python",
   "pygments_lexer": "ipython3",
   "version": "3.7.6"
  }
 },
 "nbformat": 4,
 "nbformat_minor": 4
}
