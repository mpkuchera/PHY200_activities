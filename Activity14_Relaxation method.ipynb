{
 "cells": [
  {
   "cell_type": "markdown",
   "metadata": {},
   "source": [
    "# Relaxation Method\n",
    "\n",
    "### Background\n",
    "The relaxation method allows us to numerically find solutions to expressions that can not be solved analytically. If we rearrage our equation into the form $$x = f(x)$$ where $$|f'(x^*)|<1,$$ the method will converge. \n",
    "\n",
    "As a reminder from the lectures, we choose a value to start, and continue plugging in that value until convergence.\n",
    "\n",
    "### Activity\n",
    "First, use the relaxation method for an analytically solveable equation to find x in $x = 2x + 4$ to verify that the method works:"
   ]
  },
  {
   "cell_type": "code",
   "execution_count": null,
   "metadata": {},
   "outputs": [],
   "source": []
  },
  {
   "cell_type": "markdown",
   "metadata": {},
   "source": [
    "Now, use the relaxation method to solve for x in\n",
    "$$x = e^{1-x^2}$$\n",
    "to an accuracy of $10^{-6}$"
   ]
  },
  {
   "cell_type": "code",
   "execution_count": null,
   "metadata": {},
   "outputs": [],
   "source": []
  },
  {
   "cell_type": "markdown",
   "metadata": {},
   "source": [
    "Save this file on JupyterHub"
   ]
  }
 ],
 "metadata": {
  "kernelspec": {
   "display_name": "Python 3",
   "language": "python",
   "name": "python3"
  },
  "language_info": {
   "codemirror_mode": {
    "name": "ipython",
    "version": 3
   },
   "file_extension": ".py",
   "mimetype": "text/x-python",
   "name": "python",
   "nbconvert_exporter": "python",
   "pygments_lexer": "ipython3",
   "version": "3.7.6"
  }
 },
 "nbformat": 4,
 "nbformat_minor": 4
}
