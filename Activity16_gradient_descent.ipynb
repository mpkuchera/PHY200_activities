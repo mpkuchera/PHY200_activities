{
 "cells": [
  {
   "cell_type": "markdown",
   "metadata": {},
   "source": [
    "# Gradient Descent algorithm\n",
    "\n",
    "The gradient descent algorithm finds the minima of a function by iterating:\n",
    "\n",
    "$$x' = x - \\gamma f'(x)$$ \n",
    "\n",
    "where $\\gamma$ is a stepsize that is theoretically proportional to $\\frac{1}{f''(x)}$. When the magnitude of $x' - x$ is smaller than our target accuracy, we have found our solution. This algorithm works in multiple dimensions.\n",
    "\n",
    "### For this exercise, find the minimum of the Buckingham Potential.\n",
    "The Buckingham Potential describes the Pauli repulsion energy and van der Waals energy for the interaction of two atoms that are not directly bonded as a function of the interatomic distance $r$.\n",
    "\n",
    "$$V(r) = V_0\\Big(\\big(\\frac{\\sigma}{r}\\big)^6 - e^{-\\frac{r}{\\sigma}}\\Big)$$\n",
    "\n",
    "This problem is well-suited for a numerical algorithm because there is one minimum and no way to analytically solve for it.\n",
    "\n",
    "For this problem, $V_0 = 1.0$, and $\\sigma = 0.5$."
   ]
  },
  {
   "cell_type": "code",
   "execution_count": null,
   "metadata": {},
   "outputs": [],
   "source": [
    "# place imports here:\n",
    "\n",
    "# place constant definitions here\n"
   ]
  },
  {
   "cell_type": "code",
   "execution_count": null,
   "metadata": {},
   "outputs": [],
   "source": [
    "# define your functions here. In this problem, we can write fprime(r) analytically\n",
    "\n",
    "#def f(r):\n",
    "   \n",
    "#def fprime(r):\n",
    "    "
   ]
  },
  {
   "cell_type": "code",
   "execution_count": null,
   "metadata": {},
   "outputs": [],
   "source": [
    "# plot V(r) vs r from r = 0.5 to r = 3.0\n"
   ]
  },
  {
   "cell_type": "code",
   "execution_count": null,
   "metadata": {},
   "outputs": [],
   "source": [
    "# write the 1D Gradient Descent algorithm here.\n",
    "# play with your free paramters (gamma and your starting point) to see their effect on the solution.\n"
   ]
  },
  {
   "cell_type": "markdown",
   "metadata": {},
   "source": [
    "**Save this file on JupyterHub**"
   ]
  }
 ],
 "metadata": {
  "anaconda-cloud": {},
  "kernelspec": {
   "display_name": "Python 3",
   "language": "python",
   "name": "python3"
  },
  "language_info": {
   "codemirror_mode": {
    "name": "ipython",
    "version": 3
   },
   "file_extension": ".py",
   "mimetype": "text/x-python",
   "name": "python",
   "nbconvert_exporter": "python",
   "pygments_lexer": "ipython3",
   "version": "3.7.6"
  }
 },
 "nbformat": 4,
 "nbformat_minor": 4
}
