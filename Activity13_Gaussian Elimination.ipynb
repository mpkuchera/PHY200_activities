{
 "cells": [
  {
   "cell_type": "markdown",
   "metadata": {},
   "source": [
    "# Gaussian Elimination with Backpropogation\n",
    "\n",
    "### We can solve a system of equations by representing them as a matrix and using Gaussian Elimination with Backpropogation.\n",
    "\n",
    "A common example of this in physics is solving for currents through circuit elements (resistors) using Kirchoff's Loop and Junction Rules.\n",
    "\n",
    "An example like this,\n",
    "\n",
    "<img src=\"circuit2.png\" width=\"300\">\n",
    "\n",
    "may give the equations: \n",
    "\n",
    "$$5I_1 - 3I_2 = 5$$ \n",
    "$$-3I_1 + 9I_2  - 6I_3= 4$$\n",
    "$$-6I_2  + 10I_3= 1$$\n",
    "\n",
    "This system of equations can be represented as a matrix equation of the form ${\\bf Ax = b}$: \n",
    "\n",
    "$ \n",
    "\\begin{bmatrix}\n",
    "    5       & -3 & 0  \\\\\n",
    "    -3       & 9 & -6  \\\\\n",
    "    0      & -6 & 10 \n",
    "\\end{bmatrix} \n",
    "$\n",
    "$\n",
    " \\begin{bmatrix}\n",
    "    I_1      \\\\\n",
    "    I_2      \\\\\n",
    "    I_3    \n",
    "\\end{bmatrix}\n",
    "$\n",
    "=\n",
    "$\n",
    "\\begin{bmatrix}\n",
    "    5      \\\\\n",
    "    4      \\\\\n",
    "    1    \n",
    "\\end{bmatrix}\n",
    "$\n",
    "\n",
    "\n",
    "Code that goes through the steps of Gaussian elimination and backsubstitution is provided.\n",
    "\n",
    "   - Comment each line of the below code to indicate what it does\n",
    "   - Solve the problem for the matrix equation above using the provided functions. \n",
    "    \n",
    "    \n",
    "*Reminder: Matrices are 2D arrays, thus must be created with the numpy arrays.*\n",
    "\n",
    "\n",
    "\n",
    "\n",
    "\n",
    "\n"
   ]
  },
  {
   "cell_type": "code",
   "execution_count": 1,
   "metadata": {},
   "outputs": [],
   "source": [
    "from numpy import array, zeros\n",
    "def Gauss_Elim(A,b):\n",
    "    N = len(b)\n",
    "    print(N)\n",
    "    for m in range(N):\n",
    "        div = A[m,m]\n",
    "        b[m] /= div\n",
    "        A[m,:] /= div\n",
    "        for i in range(m+1,N):\n",
    "            mult = A[i,m]\n",
    "            b[i] -= mult*b[m]\n",
    "            A[i,:] -= mult*A[m,:]\n",
    "    return A,b\n"
   ]
  },
  {
   "cell_type": "code",
   "execution_count": 3,
   "metadata": {},
   "outputs": [],
   "source": [
    "def Back_Sub(A,b):\n",
    "    N = len(b)\n",
    "    x = zeros(N,float)\n",
    "    x[N-1] = b[N-1]\n",
    "    for m in range(N-1,-1,-1):\n",
    "        x[m] = b[m]\n",
    "        for i in range(m+1,N):\n",
    "            x[m] -= A[m,i]*x[i]\n",
    "    return x"
   ]
  },
  {
   "cell_type": "code",
   "execution_count": null,
   "metadata": {},
   "outputs": [],
   "source": [
    "# Use the above functions to solve the above problem:\n",
    "\n"
   ]
  },
  {
   "cell_type": "markdown",
   "metadata": {},
   "source": [
    "## Questions:\n",
    "   1) What are the benefits of using the algorithm as opposed to solving by hand?\n",
    "   \n",
    "   2) How can this code fail?"
   ]
  },
  {
   "cell_type": "markdown",
   "metadata": {},
   "source": [
    "<font color=\"blue\">\n",
    "    Double click to type your response here."
   ]
  },
  {
   "cell_type": "markdown",
   "metadata": {},
   "source": [
    "**Save this file as lastname1_lastname2_elimination.ipynb and submit on Moodle.**"
   ]
  }
 ],
 "metadata": {
  "kernelspec": {
   "display_name": "Python 3",
   "language": "python",
   "name": "python3"
  },
  "language_info": {
   "codemirror_mode": {
    "name": "ipython",
    "version": 3
   },
   "file_extension": ".py",
   "mimetype": "text/x-python",
   "name": "python",
   "nbconvert_exporter": "python",
   "pygments_lexer": "ipython3",
   "version": "3.7.6"
  }
 },
 "nbformat": 4,
 "nbformat_minor": 4
}
