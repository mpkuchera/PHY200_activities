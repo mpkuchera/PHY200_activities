{
 "cells": [
  {
   "cell_type": "markdown",
   "metadata": {},
   "source": [
    "# Leapfrog Daily Exercise\n",
    "\n",
    "### Today, we will implement the nonlinear pendulum using the Leapfrog method and compare the results with 2nd order Runge Kutta.\n",
    "\n",
    " - First, implement 2nd order Runge-Kutta using the non-linear pendulum from the previous activity. I added in two plots: x vs t and y vs t.\n",
    "\n",
    "-  Then, implement the leapfrog method and generate the same plots. In a cell below your work, make notes on your observations. \n",
    "\n",
    "As a reminder, we are solving the 2nd order Ordinary Differential Equation (ODE) for a non-linear pendulum:\n",
    "\n",
    "$$\\frac{d^2\\theta}{dt^2} = -\\frac{g}{l}\\sin{\\theta}$$\n",
    "\n",
    "2nd order Runge Kutta is given by:\n",
    "\n",
    "$$\\begin{eqnarray}\n",
    "k_1& = &hf(x,t)\\\\\n",
    "k_2& = &hf(x+\\frac{1}{2}k_1),t+\\frac{1}{2}h) \\\\\n",
    "x(t+h)& = & x(t) + k_2\n",
    "\\end{eqnarray}$$\n",
    "\n",
    "\n"
   ]
  },
  {
   "cell_type": "code",
   "execution_count": null,
   "metadata": {},
   "outputs": [],
   "source": [
    "%matplotlib inline\n",
    "from math import sin, pi,cos\n",
    "from numpy import linspace, array\n",
    "from pylab import plot, show, axes"
   ]
  },
  {
   "cell_type": "code",
   "execution_count": null,
   "metadata": {},
   "outputs": [],
   "source": [
    "g = 9.81 # m/s\n",
    "l = 1\n",
    "# define your function for your ODEs here\n",
    "\n",
    "def f(r):\n"
   ]
  },
  {
   "cell_type": "code",
   "execution_count": null,
   "metadata": {},
   "outputs": [],
   "source": [
    "# define your 2nd-order Runge-Kutta here\n",
    "a,b,N = 0,100,1000\n",
    "T = linspace(a,b,N)\n",
    "\n",
    "theta0 = pi/4\n",
    "omega0 = 0.0\n",
    "xs = []\n",
    "ys = []\n",
    "\n",
    "r = array([theta0,omega0],float)\n",
    "xs.append(l*sin(r[0]))\n",
    "ys.append(-l*cos(r[0]))\n",
    "# loop over T and append xs and ys:"
   ]
  },
  {
   "cell_type": "code",
   "execution_count": null,
   "metadata": {},
   "outputs": [],
   "source": [
    "# plot pendulum path\n",
    "plot(xs,ys,'o')\n",
    "plot(0,0,'o')\n",
    "axes().set_aspect(\"equal\")\n",
    "show()"
   ]
  },
  {
   "cell_type": "code",
   "execution_count": null,
   "metadata": {},
   "outputs": [],
   "source": [
    "# plot xs and ys over time\n",
    "plot(T,xs[:-1])\n",
    "show()\n",
    "plot(T,ys[:-1])"
   ]
  },
  {
   "cell_type": "code",
   "execution_count": null,
   "metadata": {},
   "outputs": [],
   "source": [
    "## add your leapfrog code in the following cells. \n",
    "# You can use f(r) from above. \n",
    "# The RK2 algorithm may be a nice wireframe for your work"
   ]
  },
  {
   "cell_type": "code",
   "execution_count": null,
   "metadata": {},
   "outputs": [],
   "source": [
    "# define your 2nd-order Runge-Kutta here\n",
    "a,b,N = 0,100,1000\n",
    "T = linspace(a,b,N)\n",
    "\n",
    "theta0 = pi/4\n",
    "omega0 = 0.0\n",
    "xs2 = []\n",
    "ys2 = []\n",
    "\n",
    "r = array([theta0,omega0],float)\n",
    "xs2.append(l*sin(r[0]))\n",
    "ys2.append(-l*cos(r[0]))\n",
    "# loop over T and append xs and ys:\n"
   ]
  },
  {
   "cell_type": "code",
   "execution_count": null,
   "metadata": {},
   "outputs": [],
   "source": [
    "# plot pendulum path\n",
    "\n",
    "plot(xs2,ys2,'o')\n",
    "plot(0,0,'o')\n",
    "axes().set_aspect(\"equal\")\n",
    "show()"
   ]
  },
  {
   "cell_type": "code",
   "execution_count": null,
   "metadata": {},
   "outputs": [],
   "source": [
    "# plot positions over time\n",
    "plot(T,xs2[:-1])\n",
    "show()\n",
    "plot(T,ys2[:-1])"
   ]
  },
  {
   "cell_type": "markdown",
   "metadata": {},
   "source": [
    "### Save on JupyterHub."
   ]
  }
 ],
 "metadata": {
  "kernelspec": {
   "display_name": "Python 3",
   "language": "python",
   "name": "python3"
  },
  "language_info": {
   "codemirror_mode": {
    "name": "ipython",
    "version": 3
   },
   "file_extension": ".py",
   "mimetype": "text/x-python",
   "name": "python",
   "nbconvert_exporter": "python",
   "pygments_lexer": "ipython3",
   "version": "3.7.6"
  }
 },
 "nbformat": 4,
 "nbformat_minor": 4
}
