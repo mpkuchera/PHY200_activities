{
 "cells": [
  {
   "cell_type": "markdown",
   "metadata": {},
   "source": [
    "# Exercise 1: Plotting Scanning Tunneling Microscope (STM) Data\n",
    "\n",
    "The file `stm.txt` contains STM data from the surface of the surface of silicon. This data represents an image of a surface at the atomic level by measuring the quantum tunneling current as a function of position. \n",
    "\n",
    "First, read in the contents of the file and store into an array."
   ]
  },
  {
   "cell_type": "code",
   "execution_count": null,
   "metadata": {},
   "outputs": [],
   "source": [
    "# add your imports here!\n"
   ]
  },
  {
   "cell_type": "code",
   "execution_count": null,
   "metadata": {},
   "outputs": [],
   "source": [
    "# read the file and store data into an array:\n",
    "\n"
   ]
  },
  {
   "cell_type": "markdown",
   "metadata": {},
   "source": [
    "Use the `imshow` function from `matplotlib.pyplot` to plot the data as a density plot. Use matplotlib's online documentation to look up how to add a color bar to see the meaning of the colors in the plot. \n",
    "\n",
    ""
   ]
  },
  {
   "cell_type": "code",
   "execution_count": null,
   "metadata": {},
   "outputs": [],
   "source": [
    "\n"
   ]
  },
  {
   "cell_type": "markdown",
   "metadata": {},
   "source": [
    "Next, look up how to change the color map for a density plot. \n",
    "\n",
    "Some of the options are:\n",
    "\n",
    " - `jet`\n",
    " - `gray`\n",
    " - `hot`\n",
    " - `spectral`\n",
    " - `bone`\n",
    " - `hsv`\n",
    " \n",
    "Choose the two colormaps that you think shows the silicon structure the best and plot them, with colorbars, in the cells below."
   ]
  },
  {
   "cell_type": "code",
   "execution_count": null,
   "metadata": {},
   "outputs": [],
   "source": [
    "\n"
   ]
  },
  {
   "cell_type": "code",
   "execution_count": null,
   "metadata": {},
   "outputs": [],
   "source": [
    "\n",
    "\n"
   ]
  },
  {
   "cell_type": "markdown",
   "metadata": {},
   "source": [
    "# Exercise 2: 3D visualizations with VPython\n",
    "\n",
    "Now, we will visualize a simple lattice in 3 dimensions using the `vpython` package. This will get you off to a good start for one of your homework problems. \n",
    "\n",
    "We will visualize atoms arranges in a simple 3D cubic lattice. We will do this by drawing spheres on a canvas at integer positions from -L to L in x,y, and z directions, where L will be for testing.\n",
    "\n",
    "Your spheres (atoms) should not be touching.\n",
    "\n",
    "If you have time, try changing the sphere colors.\n",
    "\n",
    "*Remember, your book's information on the visual package is outdated. You will need to follow your notes from this class for `vpython` syntax.*"
   ]
  },
  {
   "cell_type": "code",
   "execution_count": null,
   "metadata": {},
   "outputs": [],
   "source": [
    "# import the vpython package\n",
    "import vpython as vp"
   ]
  },
  {
   "cell_type": "code",
   "execution_count": null,
   "metadata": {},
   "outputs": [],
   "source": [
    "# add your code here\n",
    "\n",
    "vp.sphere()"
   ]
  },
  {
   "cell_type": "markdown",
   "metadata": {},
   "source": [
    "### Save this file as lastname1_lastname2_adv_plot.ipynb and submit on Moodle."
   ]
  }
 ],
 "metadata": {
  "kernelspec": {
   "display_name": "Python 3",
   "language": "python",
   "name": "python3"
  },
  "language_info": {
   "codemirror_mode": {
    "name": "ipython",
    "version": 3
   },
   "file_extension": ".py",
   "mimetype": "text/x-python",
   "name": "python",
   "nbconvert_exporter": "python",
   "pygments_lexer": "ipython3",
   "version": "3.7.9"
  }
 },
 "nbformat": 4,
 "nbformat_minor": 4
}
