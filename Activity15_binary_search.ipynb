{
 "cells": [
  {
   "cell_type": "markdown",
   "metadata": {},
   "source": [
    "# Binary search method\n",
    "\n",
    "Last week, we saw that the **relaxation method** works when we can arrange our nonlinear equation in the form $x = f(x)$ where $|f'(x)| < 1$.\n",
    "\n",
    "Another way to solve a nonlinear equation is the **binary search method**. For this method, we rearrange our function to be of the form $f(x) = 0$ and find the $x$ which solves this equation. Therefore, the binary search method (also called the bisection method) is a **root finding algorithm**.\n",
    "\n",
    "If we choose an interval $[a,b]$ that contains an odd number of roots, we are able to find a solution using the binary search method.\n",
    "\n",
    "![bisection](https://upload.wikimedia.org/wikipedia/commons/thumb/8/8c/Bisection_method.svg/250px-Bisection_method.svg.png)\n",
    "\n",
    "We will have the same goal today as our previous activity: To solve for x in \n",
    "$x = e^{1-x^2}$\n",
    "to an accuracy of $10^{-6}$.\n",
    "\n",
    "First, plot the function in the range $[-10,10]$ and plot the function $y(x) = 0$ on the same plot to see where the roots lie."
   ]
  },
  {
   "cell_type": "code",
   "execution_count": 1,
   "metadata": {
    "collapsed": true,
    "jupyter": {
     "outputs_hidden": true
    }
   },
   "outputs": [],
   "source": [
    "# imports here\n",
    "%matplotlib inline\n",
    "\n"
   ]
  },
  {
   "cell_type": "code",
   "execution_count": 2,
   "metadata": {
    "collapsed": true,
    "jupyter": {
     "outputs_hidden": true
    }
   },
   "outputs": [],
   "source": [
    "# define function\n"
   ]
  },
  {
   "cell_type": "code",
   "execution_count": 3,
   "metadata": {},
   "outputs": [],
   "source": [
    "# plot f(x) and y = 0 on the same plot.\n"
   ]
  },
  {
   "cell_type": "markdown",
   "metadata": {},
   "source": [
    "### Now, use the binary search method to find x to an accuracy of $10^{-6}$"
   ]
  },
  {
   "cell_type": "code",
   "execution_count": null,
   "metadata": {},
   "outputs": [],
   "source": []
  },
  {
   "cell_type": "markdown",
   "metadata": {},
   "source": [
    "Make sure your activity is saved on JupyterH"
   ]
  }
 ],
 "metadata": {
  "anaconda-cloud": {},
  "kernelspec": {
   "display_name": "Python 3",
   "language": "python",
   "name": "python3"
  },
  "language_info": {
   "codemirror_mode": {
    "name": "ipython",
    "version": 3
   },
   "file_extension": ".py",
   "mimetype": "text/x-python",
   "name": "python",
   "nbconvert_exporter": "python",
   "pygments_lexer": "ipython3",
   "version": "3.7.6"
  }
 },
 "nbformat": 4,
 "nbformat_minor": 4
}
