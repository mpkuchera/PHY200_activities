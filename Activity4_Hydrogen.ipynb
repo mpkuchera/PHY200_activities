{
 "cells": [
  {
   "cell_type": "markdown",
   "metadata": {},
   "source": [
    "![hydrogren](https://upload.wikimedia.org/wikipedia/commons/thumb/8/83/Hydrogen_discharge_tube.jpg/1280px-Hydrogen_discharge_tube.jpg)\n",
    "# Emission lines of Hydrogen... again.\n",
    "\n",
    "The first day of class you copied code that calculated the emission lines of Hydrogen. Today, you will generate the same code on your own. \n",
    "\n",
    "**Do not reference your previous code or book for this activity.** The purpose of this activtiy is, like others we have done, to take a mathematical expression of a physics idea and write python code to evaluate it. In fact, I wouldn't expect you to exactly reproduce the code in the book, as there are many subtle differences in how you can code a solutuion to this problem.\n",
    "\n",
    "The Rydberg formula calculates the emission lines for Hydrogen:\n",
    "$$\\frac{1}{\\lambda} = R\\big(\\frac{1}{m^2}-\\frac{1}{n^2}\\big)$$\n",
    "where $R = 1.097\\times 10^{-2}$nm$^{-1}$ and $m$ and $n$ are positive integers. \n",
    "For a given value of $m$, the wavelenghts for all $n>m$ form a series.\n",
    "\n",
    "Below, write code that prints out the first five values in the $m=1,2,3$ series (the Lyman, Balmer, and Paschen series).\n",
    "\n",
    "Feel free to again check your values with the Hydrogen gas and spectrometers at the front of the room.\n"
   ]
  },
  {
   "cell_type": "code",
   "execution_count": 3,
   "metadata": {},
   "outputs": [],
   "source": [
    "# Write your code here \n",
    "\n",
    "\n"
   ]
  },
  {
   "cell_type": "markdown",
   "metadata": {},
   "source": [
    "**Save this file as lastname1_lastname2_Hydrogen.ipynb and submit on Moodle. If you run out of time, save this notebook and submit by Friday at 5pm.**\n",
    "\n",
    "<font color=\"orange\">\n",
    "**Hey! Did you know Jupyter notebooks are often used in large experiment physics research? Experiments such as LIGO and the LHC publicly post Jupyter notebooks to get you started with looking at their data!** "
   ]
  }
 ],
 "metadata": {
  "kernelspec": {
   "display_name": "Python 3",
   "language": "python",
   "name": "python3"
  },
  "language_info": {
   "codemirror_mode": {
    "name": "ipython",
    "version": 3
   },
   "file_extension": ".py",
   "mimetype": "text/x-python",
   "name": "python",
   "nbconvert_exporter": "python",
   "pygments_lexer": "ipython3",
   "version": "3.6.3"
  }
 },
 "nbformat": 4,
 "nbformat_minor": 2
}
