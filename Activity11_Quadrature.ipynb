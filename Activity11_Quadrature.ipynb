{
 "cells": [
  {
   "cell_type": "markdown",
   "metadata": {},
   "source": [
    "# Gaussian Quadrature\n",
    "\n",
    "Gauss-Legendre Quadrature states that:\n",
    "\n",
    "$$\\int_{-1}^1 f(x)dx = \\sum_{k=1}^N w_k f(x_k)$$\n",
    "where $x_k$ are the roots of the Legendre polynomials and $w_k = \\int_{-1}^1 \\phi_k(x)$, where $\\phi_k(x)$ are the Legendre polynomials.\n",
    "\n",
    "We will use gaussian quadrature to integrate: $$\\int_{a}^b 4x^3-2x^2$$\n",
    "\n",
    "\n",
    "In the cells below, we will define our function to be integrated as well as a function to evaluate the analytical result to this integral for any $a$ and $b$."
   ]
  },
  {
   "cell_type": "code",
   "execution_count": null,
   "metadata": {},
   "outputs": [],
   "source": [
    "# imports here! Don't forget to reevaluate this cell when you add new packages.\n",
    "%matplotlib inline\n"
   ]
  },
  {
   "cell_type": "code",
   "execution_count": null,
   "metadata": {},
   "outputs": [],
   "source": [
    "# define our function to be integrated here\n"
   ]
  },
  {
   "cell_type": "code",
   "execution_count": null,
   "metadata": {},
   "outputs": [],
   "source": [
    "# plot our function from x = -4 to 4\n"
   ]
  },
  {
   "cell_type": "code",
   "execution_count": null,
   "metadata": {},
   "outputs": [],
   "source": [
    "# define a function that returns the analytical result for limits of integration a to b\n"
   ]
  },
  {
   "cell_type": "code",
   "execution_count": null,
   "metadata": {},
   "outputs": [],
   "source": [
    "# evaluate this integral from -1 to 1 and from -2 to 2 and print the results\n"
   ]
  },
  {
   "cell_type": "markdown",
   "metadata": {},
   "source": [
    "Use the `gaussxw(N)` function from the `gaussxw.py` file provided to calculate the integral of our function. \n",
    "\n",
    "The `gaussxw(N)` function returns the sample points (roots of the Legendre polynomials) and associated weights. In the cell below, use this function to obtain your sample points and weights and print them out. "
   ]
  },
  {
   "cell_type": "code",
   "execution_count": null,
   "metadata": {},
   "outputs": [],
   "source": [
    "# compute and print x and w from gaussxw(N)\n"
   ]
  },
  {
   "cell_type": "markdown",
   "metadata": {},
   "source": [
    "Now, use these values to compute our integral from $-1$ to $1$."
   ]
  },
  {
   "cell_type": "code",
   "execution_count": null,
   "metadata": {},
   "outputs": [],
   "source": [
    "# integrate!\n"
   ]
  },
  {
   "cell_type": "markdown",
   "metadata": {},
   "source": [
    "Use **the same weights and sample points** to compute the integral from $-2$ to $2$:"
   ]
  },
  {
   "cell_type": "code",
   "execution_count": null,
   "metadata": {},
   "outputs": [],
   "source": [
    "#\n"
   ]
  },
  {
   "cell_type": "markdown",
   "metadata": {},
   "source": [
    "Edit the above code to find the smallest `N` that gives an accurate result\n",
    "\n",
    "How close to the exact answer did you get? Calculate % difference\n"
   ]
  },
  {
   "cell_type": "code",
   "execution_count": null,
   "metadata": {},
   "outputs": [],
   "source": [
    "# calculate % difference and print result"
   ]
  },
  {
   "cell_type": "markdown",
   "metadata": {},
   "source": []
  }
 ],
 "metadata": {
  "kernelspec": {
   "display_name": "Python 3",
   "language": "python",
   "name": "python3"
  },
  "language_info": {
   "codemirror_mode": {
    "name": "ipython",
    "version": 3
   },
   "file_extension": ".py",
   "mimetype": "text/x-python",
   "name": "python",
   "nbconvert_exporter": "python",
   "pygments_lexer": "ipython3",
   "version": "3.7.6"
  }
 },
 "nbformat": 4,
 "nbformat_minor": 4
}
