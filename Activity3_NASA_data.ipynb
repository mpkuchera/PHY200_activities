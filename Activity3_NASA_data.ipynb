{
 "cells": [
  {
   "cell_type": "markdown",
   "metadata": {},
   "source": [
    "<!-- ![nasa logo](https://www.logodesignlove.com/images/bad/nasa-logo-meatball.jpg) -->\n",
    "<img src=\"https://www.logodesignlove.com/images/bad/nasa-logo-meatball.jpg\" width=\"30%\">\n",
    "\n",
    "# Activity 3: Arrays\n",
    "## arrays, slicing, and reading numerical data from a file\n",
    "\n",
    "## Today, we will work with NASA data, which is described below:\n",
    "\n",
    ">The Low Resolution OMNI (LRO) data set is primarily a 1963-to-current compilation of hourly-averaged, near-Earth solar wind magnetic field and plasma parameter data from several spacecraft in geocentric or L1 (Lagrange point) orbits. The data have been extensively cross compared, and, for some spacecraft and parameters, cross-normalized. Time-shifts of higher resolution data to expected magnetosphere-arrival times are done for data from spacecraft in L1 orbits (ISEE 3, Wind, ACE), prior to taking hourly averages.\n",
    "LRO also provides other widely accessed data that are frequently used with solar wind data. In particular, LRO provides fluxes of protons with energies above 1, 2, 4, 10, 30, and 60 MeV from several IMP and GOES spacecraft, and provides a wide range of geomagnetic and solar activity indices. The data are made available at daily and 27-day resolutions, in addition to hourly resolution. They are made accessible with a variety of functionalities from https://omniweb.gsfc.nasa.gov/ow.html. \n",
    "High Resolution OMNI (HRO) data set include 1-min and 5-min bow-shock-nose- shifted solar wind magnetic field and plasma data from IMP 8, Geotail, Wind and ACE see: https://omniweb.gsfc.nasa.gov/ow_min.html>\n",
    "\n",
    "## The data set in this exercise contains daily averaged data over two years. The columns are:\n",
    "`year day 0 IMF_mag_avg(nT) proton_density(n/cc) E-field(mV/m) proton_flux>10MeV(1/(cm^2 sec ster))`\n",
    "\n",
    "\n",
    "### First, make sure ```omni2_daily.txt``` is saved to the same folder as this Jupyter notebook.\n",
    "\n",
    "Place all of your imports in the cell below. You can always go back and add imports to this cell and re-evaluate.\n"
   ]
  },
  {
   "cell_type": "code",
   "execution_count": null,
   "metadata": {},
   "outputs": [],
   "source": [
    "# imports here\n"
   ]
  },
  {
   "cell_type": "markdown",
   "metadata": {},
   "source": [
    "### In the cell below, load the contents of this text file into an array using `loadtxt` from the `numpy` package."
   ]
  },
  {
   "cell_type": "code",
   "execution_count": null,
   "metadata": {},
   "outputs": [],
   "source": []
  },
  {
   "cell_type": "markdown",
   "metadata": {},
   "source": [
    "### The 6th column (counting from 1) is the Electric field measurement for each day. Calculate the average E-field over the entire dataset. Use array slicing and array functions, such as adding the elements of an array, to do this. "
   ]
  },
  {
   "cell_type": "code",
   "execution_count": null,
   "metadata": {},
   "outputs": [],
   "source": []
  },
  {
   "cell_type": "markdown",
   "metadata": {},
   "source": [
    "### Import the mean function from the numpy package and use this to verify your results above."
   ]
  },
  {
   "cell_type": "code",
   "execution_count": null,
   "metadata": {},
   "outputs": [],
   "source": []
  },
  {
   "cell_type": "markdown",
   "metadata": {},
   "source": [
    "### Lastly, calculate the natural log of all of the interplanetary mean field values (the 4th column) and store them in a new array. Calculate the mean of these values."
   ]
  },
  {
   "cell_type": "code",
   "execution_count": null,
   "metadata": {},
   "outputs": [],
   "source": []
  },
  {
   "cell_type": "code",
   "execution_count": null,
   "metadata": {},
   "outputs": [],
   "source": []
  },
  {
   "cell_type": "markdown",
   "metadata": {},
   "source": [
    "### Last, try adding, multiplying, and dividing 1D arrays. Create your own arrays (choose any values) and implement the operations, in the cell below your outputs, create a markdown cell that describes what happens in each case. \n",
    "\n",
    "Lastly, how would you do matrix multiplication (feel free to google)? If you have time, create a new cell and explore matrix multiplication (what does it mean to multiply two matrices together?)."
   ]
  },
  {
   "cell_type": "code",
   "execution_count": null,
   "metadata": {
    "collapsed": true,
    "jupyter": {
     "outputs_hidden": true
    }
   },
   "outputs": [],
   "source": [
    "# add two 1D arrays\n"
   ]
  },
  {
   "cell_type": "code",
   "execution_count": null,
   "metadata": {
    "collapsed": true,
    "jupyter": {
     "outputs_hidden": true
    }
   },
   "outputs": [],
   "source": [
    "# multiply two 1D arrays\n"
   ]
  },
  {
   "cell_type": "code",
   "execution_count": null,
   "metadata": {
    "collapsed": true,
    "jupyter": {
     "outputs_hidden": true
    }
   },
   "outputs": [],
   "source": [
    "# divide two 1D arrays\n"
   ]
  },
  {
   "cell_type": "markdown",
   "metadata": {},
   "source": [
    "<font color=\"blue\">\n",
    "Double click here to write your response."
   ]
  },
  {
   "cell_type": "markdown",
   "metadata": {},
   "source": [
    "### Make sure this file is saved on your JupyterHub account."
   ]
  }
 ],
 "metadata": {
  "kernelspec": {
   "display_name": "Python 3",
   "language": "python",
   "name": "python3"
  },
  "language_info": {
   "codemirror_mode": {
    "name": "ipython",
    "version": 3
   },
   "file_extension": ".py",
   "mimetype": "text/x-python",
   "name": "python",
   "nbconvert_exporter": "python",
   "pygments_lexer": "ipython3",
   "version": "3.7.6"
  }
 },
 "nbformat": 4,
 "nbformat_minor": 4
}
