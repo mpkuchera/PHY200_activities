{
 "cells": [
  {
   "cell_type": "markdown",
   "metadata": {},
   "source": [
    "# Fourier transforms of sound data\n",
    "\n",
    "\n",
    "<!--The Discrete Fourier Transform (DFT) is given by:\n",
    "\n",
    "$$c_k = \\sum_{n=0}^{N-1}y_n e^{-i\\frac{2\\pi kn}{N}}$$\n",
    "\n",
    "for $0 < k \\leq N/2$. -->\n",
    "\n",
    "The Fourier transform allows us to look at a periodic function in frequency space to find the frequency composition of our function.\n",
    "\n",
    "## The Discrete Fourier Transform (DFT)\n",
    "Sound data is discrete. Data is taken at a rate given by the *sampling rate* of your recording device or application. Therefore, the discrete Fourier transform can be applied to calculate the frequency composition of an audio sample. In this activity, we will load in a text file of audio as an array and find what frequencies (or notes) are in the sound.\n",
    "\n",
    "**Create a `dft(x)` function that takes in an array of discrete points and returns a coefficient array.**\n",
    "\n",
    "$$c_k = \\sum_{n=0}^{N-1}y_n e^{-i\\frac{2\\pi kn}{N}}$$\n",
    "\n",
    "for $0 < k \\leq N/2$, where N is the number of samples in your array."
   ]
  },
  {
   "cell_type": "code",
   "execution_count": 1,
   "metadata": {},
   "outputs": [],
   "source": [
    "# imports here\n",
    "from IPython.display import Audio # plays audio in a Jupyter notebook\n"
   ]
  },
  {
   "cell_type": "markdown",
   "metadata": {},
   "source": [
    "* Generate an array of simulated data with a known frequency, and use you function to calcluate the coefficients $c_k$. A pure tone at a frequency $f$ is given by y = $\\sin{2\\pi ft}$. We can hear frequencies of about $150 - 15000$ Hz. A sample rate of 100 samples per second is sufficient.\n",
    "* Plot $c_k$ vs. $k$\n",
    "*  If we know the sample rate of the data, $f_s$, then we can convert the coefficient to a frequency: $f_k = \\frac{k f_s}{N}$, where N is the number of samples.\n",
    "\n",
    "* Calculate the frequency for your largest $c_k$.\n",
    "\n",
    "* Play your simulated sound, and see if the tone matches that of the frequency that you found (You can check here! http://www.szynalski.com/tone-generator/)."
   ]
  },
  {
   "cell_type": "code",
   "execution_count": 2,
   "metadata": {},
   "outputs": [],
   "source": [
    "# generate data and calculate coefficients"
   ]
  },
  {
   "cell_type": "code",
   "execution_count": 3,
   "metadata": {},
   "outputs": [],
   "source": [
    "# play your audio array\n",
    "#Audio(y, rate=my_rate)"
   ]
  },
  {
   "cell_type": "markdown",
   "metadata": {},
   "source": [
    "## Analyze sound data\n",
    "\n",
    "* Use the program Audacity to record two sounds of your choosing, using anything available to you in the room. Feel free to choose any sound you like, for example, the instruments, your voice, or any other sound you can create. Keep in mind that you will be analyzing a *very* short duration of sound. Use a linear scale and use the smallest sample rate available.\n",
    "* Export this sound as a text file. (Analyze $\\rightarrow$ Sample Data Export)\n",
    "* For a small portion of each audio (check that the chosen portion plays your expected sound), make the $c_k$ plot. Qualitatively compare the frequency composition and the sound."
   ]
  },
  {
   "cell_type": "code",
   "execution_count": 4,
   "metadata": {},
   "outputs": [],
   "source": [
    "#\n",
    "\n"
   ]
  },
  {
   "cell_type": "markdown",
   "metadata": {},
   "source": [
    "Make sure your activity is saved on JupyterHub."
   ]
  }
 ],
 "metadata": {
  "kernelspec": {
   "display_name": "Python 3",
   "language": "python",
   "name": "python3"
  },
  "language_info": {
   "codemirror_mode": {
    "name": "ipython",
    "version": 3
   },
   "file_extension": ".py",
   "mimetype": "text/x-python",
   "name": "python",
   "nbconvert_exporter": "python",
   "pygments_lexer": "ipython3",
   "version": "3.7.9"
  }
 },
 "nbformat": 4,
 "nbformat_minor": 4
}
