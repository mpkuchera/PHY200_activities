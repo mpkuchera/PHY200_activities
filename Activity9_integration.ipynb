{
 "cells": [
  {
   "cell_type": "markdown",
   "metadata": {},
   "source": [
    "# Numerical Integration\n",
    "\n",
    "## Trapezoidal Rule\n",
    "\n",
    "As we derived in class, the trapezoidal rule is\n",
    "\n",
    "$$\\int_a^b{f(x) dx} = h\\Bigg[ \\frac{f(a)}{2}+\\frac{f(b)}{2}+\\sum_{k=1}^{N-1}f(a+kh)\\Bigg]$$\n",
    "\n",
    "Let's test this by looking at the integral from $x=0$ to $x = 4$ of the function\n",
    "\n",
    "$$f(x) = \\frac{x^4}{2} - 4x^2 + 10$$\n",
    "\n",
    "i.e.\n",
    "\n",
    "$$\\int_0^4f(x)dx$$\n",
    "\n",
    "First, solve this integral analytically and symbolically by hand. In the cell below, write the anaytic form of the integral evaluated from $a$ to $b$."
   ]
  },
  {
   "cell_type": "markdown",
   "metadata": {},
   "source": [
    "<font color=\"#222288\">\n",
    "    \n",
    "\n",
    "Doubel click here to type response. Remember equations are typed like: \n",
    "    \n",
    "$$a^4+b$$"
   ]
  },
  {
   "cell_type": "code",
   "execution_count": null,
   "metadata": {},
   "outputs": [],
   "source": [
    "# define imports here (and re-run this cell when adding imports)\n",
    "\n"
   ]
  },
  {
   "cell_type": "markdown",
   "metadata": {},
   "source": [
    "Now, create a function called ``analytic_integral(a,b)`` that evaluates and returns the analytic (*by hand*) solution to the integral evaluated at the interval given by the function arguments."
   ]
  },
  {
   "cell_type": "code",
   "execution_count": null,
   "metadata": {},
   "outputs": [],
   "source": [
    "# define analytic integral function here\n"
   ]
  },
  {
   "cell_type": "code",
   "execution_count": 1,
   "metadata": {},
   "outputs": [],
   "source": [
    "# evaluate here for a = 0 to b = 4 to verify that your code is correct \n"
   ]
  },
  {
   "cell_type": "markdown",
   "metadata": {},
   "source": [
    "Many integrals are not easy or possible to calculate analytically. Let's use this example of an integral that we **can** calculate analytically to compute the numeric integral. First, create a function ``f(x)`` for our function that we want to integrate.\n"
   ]
  },
  {
   "cell_type": "code",
   "execution_count": 3,
   "metadata": {},
   "outputs": [],
   "source": [
    "# define function here\n"
   ]
  },
  {
   "cell_type": "markdown",
   "metadata": {},
   "source": [
    "Now, let's plot this function in the interval that we will be taking the integral. Use your function defined above. You may import your plotting packages within this cell."
   ]
  },
  {
   "cell_type": "code",
   "execution_count": null,
   "metadata": {},
   "outputs": [],
   "source": [
    "# plot here\n"
   ]
  },
  {
   "cell_type": "markdown",
   "metadata": {},
   "source": [
    "Create a function ``trapezoidal(a,b,N)``. Call your ``f(x)`` function defined above within the function."
   ]
  },
  {
   "cell_type": "code",
   "execution_count": 4,
   "metadata": {},
   "outputs": [],
   "source": [
    "# create trapezoidal(a,b,N) function here\n"
   ]
  },
  {
   "cell_type": "markdown",
   "metadata": {},
   "source": [
    "Call your function with the limits of integration above and an N of 1, 10, and 100 divisions and print out your results."
   ]
  },
  {
   "cell_type": "code",
   "execution_count": 5,
   "metadata": {},
   "outputs": [],
   "source": [
    "# results here!\n"
   ]
  },
  {
   "cell_type": "markdown",
   "metadata": {},
   "source": [
    "In the cell below, print out the percent difference for each result."
   ]
  },
  {
   "cell_type": "code",
   "execution_count": 6,
   "metadata": {},
   "outputs": [],
   "source": [
    "# percent difference calculations\n"
   ]
  },
  {
   "cell_type": "markdown",
   "metadata": {},
   "source": [
    "**Make sure this is saved on your JupyterHub account!**"
   ]
  }
 ],
 "metadata": {
  "kernelspec": {
   "display_name": "Python 3",
   "language": "python",
   "name": "python3"
  },
  "language_info": {
   "codemirror_mode": {
    "name": "ipython",
    "version": 3
   },
   "file_extension": ".py",
   "mimetype": "text/x-python",
   "name": "python",
   "nbconvert_exporter": "python",
   "pygments_lexer": "ipython3",
   "version": "3.7.6"
  }
 },
 "nbformat": 4,
 "nbformat_minor": 4
}
