{
 "cells": [
  {
   "cell_type": "markdown",
   "metadata": {},
   "source": [
    "# In-class Activity: The Fibonacci Sequence \n",
    "\n",
    "![fib image. source:Wikipedia](https://upload.wikimedia.org/wikipedia/commons/2/2e/FibonacciSpiral.svg)\n",
    "\n",
    "The Finonacci numbers are a sequence of integers where each term is the sum of the preceding two terms, with the first two values being $1,1$. Therefore, the first few values are:\n",
    "\n",
    "```\n",
    "1\n",
    "1\n",
    "2\n",
    "3\n",
    "5\n",
    "8\n",
    "13\n",
    "21\n",
    "```\n",
    " The sequence can be used to model or describe an amazing variety of phenomena, in mathematics and science, art and nature. Examples include the golden ratio, spirals and self-similar curves.\n",
    "![pinecone](http://jwilson.coe.uga.edu/EMAT6680/Simmons/6690Pictures/pinecone3green.gif)\n",
    " \n",
    " \n",
    "### In the cell below, use the `while` and conditional statements that we learned about in class today to write a program that will print out the first 100 numbers in the Fibonacci sequence.\n"
   ]
  },
  {
   "cell_type": "code",
   "execution_count": null,
   "metadata": {},
   "outputs": [],
   "source": []
  },
  {
   "cell_type": "markdown",
   "metadata": {},
   "source": [
    "### Once you have finished this exercise, rename this file to lastname1_lastname2_fibonacci.ipynb and submit on Moodle."
   ]
  }
 ],
 "metadata": {
  "kernelspec": {
   "display_name": "Python 3",
   "language": "python",
   "name": "python3"
  },
  "language_info": {
   "codemirror_mode": {
    "name": "ipython",
    "version": 3
   },
   "file_extension": ".py",
   "mimetype": "text/x-python",
   "name": "python",
   "nbconvert_exporter": "python",
   "pygments_lexer": "ipython3",
   "version": "3.7.1"
  }
 },
 "nbformat": 4,
 "nbformat_minor": 2
}
