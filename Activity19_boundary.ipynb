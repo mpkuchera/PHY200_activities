{
 "cells": [
  {
   "cell_type": "markdown",
   "metadata": {},
   "source": [
    "# Pillaging Pirates\n",
    "<img src=\"https://daks2k3a4ib2z.cloudfront.net/57a0ff743a6ecd142c81b565/57ac9aa2ec62b90517b210b4_Homepage-Ship.svg\" width=\"300\" alt=\"Pirate Ship\" />\n",
    "\n",
    "You are onboard a pirate ship that is planning to pillage a nearby ship. You need to shoot the cannonball so that it hits the opposing ship $200$m away within 0.3 m (~1 ft) of the target.\n",
    "\n",
    "Use the **shooting method** to determine the initial angle, in degrees, that the pirates must set their cannon to, if they have enough gunpowder to emit the cannonball at a speed of $100 \\frac{m}{s}$.\n",
    "\n",
    "Below, you will find the differential equation from the homework problem of shooting a cannon. \n",
    "\n",
    "You can take the motion of the water to be negligable.\n",
    "\n",
    "Your cannon can be aimed between 10$^\\circ$ and 40$^\\circ$.\n",
    "\n",
    "### Reminders:\n",
    "\n",
    "**4th order Runge-Kutta:**\n",
    "\n",
    "$$\\begin{eqnarray}\n",
    "k1 &=& hf(r,t) \\\\\n",
    "k2 &=& hf(r+\\frac{1}{2}k1,t+\\frac{1}{2}h) \\\\\n",
    "k3 &=& hf((r+\\frac{1}{2}k2,t+\\frac{1}{2}h) \\\\\n",
    "k4 &=& hf(r+k3,t_h)\n",
    "r(t+h) &=& r(t) +\\frac{1}{6}(k1+2k2+2k3+k4)\n",
    "\\end{eqnarray}$$\n",
    "\n",
    "**Binary Search:**\n",
    "\n",
    "If we choose an interval $[a,b]$ that contains an odd number of roots, we are able to find a solution using the binary search method.\n",
    "\n",
    "![bisection](https://upload.wikimedia.org/wikipedia/commons/thumb/8/8c/Bisection_method.svg/250px-Bisection_method.svg.png)\n"
   ]
  },
  {
   "cell_type": "code",
   "execution_count": null,
   "metadata": {
    "collapsed": true,
    "jupyter": {
     "outputs_hidden": true
    }
   },
   "outputs": [],
   "source": [
    "#plot in the notebook\n",
    "%matplotlib inline\n",
    "\n",
    "#imports\n",
    "\n",
    "from numpy import array, linspace\n",
    "from math import pi, sqrt, cos, sin\n",
    "from pylab import plot, ylim, show\n",
    "\n"
   ]
  },
  {
   "cell_type": "code",
   "execution_count": null,
   "metadata": {
    "collapsed": true,
    "jupyter": {
     "outputs_hidden": true
    }
   },
   "outputs": [],
   "source": [
    "# constants\n",
    "\n",
    "R = .08 # Radius of cannonball\n",
    "m = 1. # mass of cannonball\n",
    "rho = 1.22 # mass density\n",
    "C = 0.47 # drag coefficient\n",
    "g = 9.81 # acceleration due to gravity\n"
   ]
  },
  {
   "cell_type": "code",
   "execution_count": null,
   "metadata": {
    "collapsed": true,
    "jupyter": {
     "outputs_hidden": true
    }
   },
   "outputs": [],
   "source": [
    "# equations of motion with air resistance\n",
    "def f(r):\n",
    "    vx = r[2] \n",
    "    vy = r[3] \n",
    "    dvx = -pi*R*R*rho*C*vx*sqrt(vx**2+vy**2)/(2*m)\n",
    "    dvy = -g-pi*R*R*rho*C*vy*sqrt(vx**2+vy**2)/(2*m)\n",
    "    return array([vx,vy,dvx,dvy],float)"
   ]
  },
  {
   "cell_type": "code",
   "execution_count": null,
   "metadata": {},
   "outputs": [],
   "source": [
    "# returns distance in meters. arguments are in m/s and degrees.\n",
    "# use RK4 to solve\n",
    "\n",
    "def distance(v0,theta0):\n",
    "\n",
    "  \n",
    "    return"
   ]
  },
  {
   "cell_type": "code",
   "execution_count": null,
   "metadata": {},
   "outputs": [],
   "source": [
    "# use binary search to find initial angle to shoot the cannon\n",
    "\n"
   ]
  },
  {
   "cell_type": "code",
   "execution_count": null,
   "metadata": {},
   "outputs": [],
   "source": [
    "# print result\n"
   ]
  },
  {
   "cell_type": "markdown",
   "metadata": {},
   "source": [
    "**Save as lastname1_lastname2_shooting.ipynb and submit on Moodle**"
   ]
  }
 ],
 "metadata": {
  "kernelspec": {
   "display_name": "Python 3",
   "language": "python",
   "name": "python3"
  },
  "language_info": {
   "codemirror_mode": {
    "name": "ipython",
    "version": 3
   },
   "file_extension": ".py",
   "mimetype": "text/x-python",
   "name": "python",
   "nbconvert_exporter": "python",
   "pygments_lexer": "ipython3",
   "version": "3.7.6"
  }
 },
 "nbformat": 4,
 "nbformat_minor": 4
}
