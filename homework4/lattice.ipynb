{
 "cells": [
  {
   "cell_type": "markdown",
   "metadata": {},
   "source": [
    "# Lattice structures\n",
    "\n",
    "![NaCl](https://study.com/cimages/videopreview/videopreview-full/what-is-sodium-chloride-definition-structure-formula_117243.jpg)\n",
    "\n",
    "filename: `lattice.ipynb`\n",
    "\n",
    "Problem 3.4 from Mark Newman's *Computational Physics*\n",
    "\n",
    "name: Jimmy Woo <br>\n",
    "date created: 22 Feb 2021\n",
    "\n",
    "*Complete the code here, then upload to for gradescope submission*"
   ]
  },
  {
   "cell_type": "code",
   "execution_count": null,
   "metadata": {},
   "outputs": [],
   "source": [
    "# imports\n",
    "\n",
    "import vpython as vp\n",
    "import numpy as np"
   ]
  },
  {
   "cell_type": "code",
   "execution_count": null,
   "metadata": {},
   "outputs": [],
   "source": [
    "# part a: \n",
    "def sodium_chloride():\n",
    "    \"\"\"\n",
    "    This function visualizes soldium chloride\n",
    "   \n",
    "    Parameters\n",
    "    ----------\n",
    "    None\n",
    "    Returns\n",
    "    -------\n",
    "    None\n",
    "    \n",
    "    \"\"\""
   ]
  },
  {
   "cell_type": "code",
   "execution_count": null,
   "metadata": {},
   "outputs": [],
   "source": [
    "# run above function\n",
    "sodium_chloride()"
   ]
  },
  {
   "cell_type": "code",
   "execution_count": null,
   "metadata": {},
   "outputs": [],
   "source": [
    "# part b: function name: greatest_div     \n",
    "def fcc_lattice():\n",
    "    \"\"\"\n",
    "    This function visualizes a face-centered cubic lattice structure\n",
    "    Parameters\n",
    "    ----------\n",
    "    None\n",
    "    Returns\n",
    "    -------\n",
    "    None\n",
    "    \n",
    "    \"\"\""
   ]
  },
  {
   "cell_type": "code",
   "execution_count": null,
   "metadata": {},
   "outputs": [],
   "source": [
    "fcc_lattice()"
   ]
  },
  {
   "cell_type": "code",
   "execution_count": null,
   "metadata": {},
   "outputs": [],
   "source": []
  }
 ],
 "metadata": {
  "kernelspec": {
   "display_name": "Python 3.10",
   "language": "python",
   "name": "python-3.10"
  },
  "language_info": {
   "codemirror_mode": {
    "name": "ipython",
    "version": 3
   },
   "file_extension": ".py",
   "mimetype": "text/x-python",
   "name": "python",
   "nbconvert_exporter": "python",
   "pygments_lexer": "ipython3",
   "version": "3.10.4"
  }
 },
 "nbformat": 4,
 "nbformat_minor": 4
}
